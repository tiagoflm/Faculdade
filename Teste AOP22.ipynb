{
  "cells": [
    {
      "attachments": {},
      "cell_type": "markdown",
      "metadata": {
        "id": "G90zxY79qIXe"
      },
      "source": [
        "<?xml version=\"1.0\" encoding=\"UTF-8\"?>\n",
        "<html>\n",
        "  <body>\n",
        "    <header></header>\n",
        "        <CENTER>\n",
        "          <img src=\"https://www.uvv.br/wp-content/themes/uvvBr/templates/assets//img/logouvv.svg\" alt=\"UVV-LOGO\" style = width=\"100px\"; height=\"100px\">\n",
        "        </CENTER>\n",
        "        <CENTER><b>Introdução à Programação de Computadores - PYTHON</b></CENTER>\n",
        "        <CENTER><b>Prof.: Alessandro Bertolani Oliveira</b>\n",
        "        <CENTER><b>ATIVIDADE ONLINE PONTUADA 2</b></CENTER><br/>"
      ]
    },
    {
      "cell_type": "code",
      "execution_count": null,
      "metadata": {
        "colab": {
          "base_uri": "https://localhost:8080/"
        },
        "id": "NHnfxgka_1D3",
        "outputId": "153724fa-f813-437f-d0ff-06701ad263a5"
      },
      "outputs": [
        {
          "ename": "",
          "evalue": "",
          "output_type": "error",
          "traceback": [
            "\u001b[1;31mA execução de células com 'c:\\Users\\Protheus 22\\AppData\\Local\\Microsoft\\WindowsApps\\python3.11.exe' requer o pacote ipykernel.\n",
            "\u001b[1;31mRun the following command to install 'ipykernel' into the Python environment. \n",
            "\u001b[1;31mCommand: '\"c:/Users/Protheus 22/AppData/Local/Microsoft/WindowsApps/python3.11.exe\" -m pip install ipykernel -U --user --force-reinstall'"
          ]
        }
      ],
      "source": [
        "val_hr = float(input(\"Digite o valor da sua hora de trabalho: \")) # Input do valor da hora\n",
        "hr_mes = float(input(\"Digite carga horária trabalhada no mês: \")) # Input da carga horária \n",
        "\n",
        "sal_brut = val_hr * hr_mes # calculo do salario bruto\n",
        "\n",
        "perc_ir = 11 # valor percentual do Ir\n",
        "perc_inss = 8 # valor percentual do inss\n",
        "perc_sind = 5 # valor percentual do sindicato\n",
        "\n",
        "# calculos impostos sobre salario\n",
        "IR = sal_brut * (perc_ir / 100)\n",
        "INSS = sal_brut * (perc_inss / 100)\n",
        "Sindicato = sal_brut * (perc_sind / 100)\n",
        "# calculo descontos totais\n",
        "total_de_descontos = IR + INSS + Sindicato\n",
        "# calculo salario liquido\n",
        "sal_liq = sal_brut - total_de_descontos\n",
        "\n",
        "#resultado\n",
        "print(\n",
        "    f\"\\nSalário Bruto       : R${sal_brut:.2f}\",\n",
        "    f\"\\n(-) IR (11%)        : R${IR:.2f}\",\n",
        "    f\"\\n(-) INSS (8%)       : R${INSS:.2f}\",\n",
        "    f\"\\n(-) Sindicato (5%)  : R${Sindicato:.2f}\",\n",
        "    f\"\\nTotal de descontos  : R${total_de_descontos:.2f}\",\n",
        "    f\"\\nSalário Liquido     : R${sal_liq:.2f}\",\n",
        ")"
      ]
    }
  ],
  "metadata": {
    "colab": {
      "provenance": []
    },
    "kernelspec": {
      "display_name": "Python 3",
      "name": "python3"
    },
    "language_info": {
      "codemirror_mode": {
        "name": "ipython",
        "version": 3
      },
      "file_extension": ".py",
      "mimetype": "text/x-python",
      "name": "python",
      "nbconvert_exporter": "python",
      "pygments_lexer": "ipython3",
      "version": "3.11.4"
    }
  },
  "nbformat": 4,
  "nbformat_minor": 0
}
