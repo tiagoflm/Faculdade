{
  "cells": [
    {
      "attachments": {},
      "cell_type": "markdown",
      "metadata": {
        "id": "E6OZ0MjxBLB5"
      },
      "source": [
        "# Onde posso encontrar uma boa referência de código para estudar?"
      ]
    },
    {
      "attachments": {},
      "cell_type": "markdown",
      "metadata": {
        "id": "bM1TFCn0BN6z"
      },
      "source": [
        "https://www.w3schools.com/python/default.asp"
      ]
    },
    {
      "attachments": {},
      "cell_type": "markdown",
      "metadata": {
        "id": "y4VqkuR__VY7"
      },
      "source": [
        "# Tipos de dados e variáveis"
      ]
    },
    {
      "attachments": {},
      "cell_type": "markdown",
      "metadata": {
        "id": "QH6W3-ZQ_mFD"
      },
      "source": [
        "Em Python, existem os tipos básicos e os tipos de alto nível de dados e variáveis.\n",
        "E o que são tipos? São categorias de valores que são processados de forma semelhante. Exemplos:\n",
        "\n",
        "\n",
        "* Tipos primitivos: são aqueles já embutidos no núcleo da linguagem.\n",
        "* Tipos simples: números (int, long, float, complex) e cadeias de caracteres.\n",
        "* Tipos compostos: listas, dicionários, tuplas e conjuntos.\n",
        "* Tipos definidos pelo usuário: são correspondentes a classes (orientação objeto)."
      ]
    },
    {
      "cell_type": "code",
      "execution_count": null,
      "metadata": {
        "id": "uhiJdlnx_R-b"
      },
      "outputs": [],
      "source": [
        "# Comentários são usados para escrever em meio ao código para descrevê-lo, mas não é executado"
      ]
    },
    {
      "attachments": {},
      "cell_type": "markdown",
      "metadata": {
        "id": "d1hoJNfHAUza"
      },
      "source": [
        "O que são VARIÁVEIS? São nomes dados a áreas de memória.\n",
        "Nomes podem ser compostos de algarismos, letras ou _.\n",
        "O primeiro caractere não pode ser um algarismo.\n",
        "Não pode usar palavras reservadas (if, while etc.).\n",
        "Servem para guardar valores intermediários.\n",
        "Servem para construir estruturas de dados."
      ]
    },
    {
      "cell_type": "code",
      "execution_count": null,
      "metadata": {
        "id": "xKeB8FeDAV7L"
      },
      "outputs": [],
      "source": [
        "a = 1 # variável a recebendo o valor 1"
      ]
    },
    {
      "attachments": {},
      "cell_type": "markdown",
      "metadata": {
        "id": "278CWAjqAG8e"
      },
      "source": [
        "Entre os tipos básicos podemos citar alguns. O primeiro deles os NÚMEROS.\n",
        "Há vários tipos numéricos que se pode usar em Python:\n",
        "Int: números inteiros..\n",
        "o 2 , 3, -10 , 100\n",
        "Floats: números racionais de precisão variável.\n",
        "o 1.0 , 10.5 , -19.00005 , 15e-5\n",
        "Complex: números complexos.\n",
        "o 1+1j , 20j , 1000+100J"
      ]
    },
    {
      "cell_type": "code",
      "execution_count": null,
      "metadata": {
        "id": "U1jIeJ38APdA"
      },
      "outputs": [],
      "source": [
        "num_inteiro = 1\n",
        "num_float = 1.2\n",
        "outro_num_float = 12e-5 # 12 x 10^-5 \n",
        "num_complex = 1+1j"
      ]
    },
    {
      "attachments": {},
      "cell_type": "markdown",
      "metadata": {
        "id": "OaiqI3hDBTXw"
      },
      "source": [
        "Checando os tipos das variáveis"
      ]
    },
    {
      "cell_type": "code",
      "execution_count": null,
      "metadata": {
        "colab": {
          "base_uri": "https://localhost:8080/"
        },
        "id": "ZwEvG8IABY3K",
        "outputId": "76a5a837-9a10-43ef-8ece-18b5c928f645"
      },
      "outputs": [
        {
          "name": "stdout",
          "output_type": "stream",
          "text": [
            "<class 'int'>\n",
            "<class 'float'>\n",
            "<class 'float'>\n",
            "<class 'complex'>\n"
          ]
        }
      ],
      "source": [
        "print(type(num_inteiro))\n",
        "print(type(num_float))\n",
        "print(type(outro_num_float))\n",
        "print(type(num_complex))"
      ]
    },
    {
      "attachments": {},
      "cell_type": "markdown",
      "metadata": {
        "id": "rWFqMa3pB1Jb"
      },
      "source": [
        "Um tipo não numérico é a STRING:\n",
        "São cadeias de caracteres.\n",
        "Constituem outro tipo fundamental do Python.\n",
        "Constantes STRING são escritas usando aspas simples ou duplas.\n",
        "o “a” ou ‘a’\n",
        "Python usa a tabela default do sistema operacional.\n",
        "o ASCII, UTF-8\n",
        "\n",
        "Caracteres não imprimíveis podem ser expressos usando notação “barra invertida” (\\)\n",
        "\n",
        "o \\n : nova linha\n",
        "\n",
        "o \\r : carriage return\n",
        "\n",
        "o \\t : tab\n",
        "\n",
        "o \\b : backspace\n",
        "\n",
        "o \\\\\\\\ :\\\\\n",
        "\n",
        "o \\x41 : caractere cujo código hexadecimal é 41 (“A”)"
      ]
    },
    {
      "cell_type": "code",
      "execution_count": null,
      "metadata": {
        "colab": {
          "base_uri": "https://localhost:8080/"
        },
        "id": "4Adh36CICIz6",
        "outputId": "6855007d-b97c-452e-943b-272eaca2a2da"
      },
      "outputs": [
        {
          "name": "stdout",
          "output_type": "stream",
          "text": [
            "olá mundo! Tudo bem?\n"
          ]
        }
      ],
      "source": [
        "print(\"olá mundo! Tudo bem?\")"
      ]
    },
    {
      "cell_type": "code",
      "execution_count": null,
      "metadata": {
        "colab": {
          "base_uri": "https://localhost:8080/"
        },
        "id": "MJZNwyYuCQLB",
        "outputId": "7552cb42-fbb7-48e7-c493-583c97770834"
      },
      "outputs": [
        {
          "name": "stdout",
          "output_type": "stream",
          "text": [
            "olá mundo!\n",
            "Tudo bem?\n",
            "olá mundo!\rTudo bem?\n",
            "olá mundo!\tTudo bem?\n",
            "olá mundo!\bTudo bem?\n",
            "olá mundo!\\bTudo bem?\n",
            "olá mundo!AbTudo bem?\n"
          ]
        }
      ],
      "source": [
        "print(\"olá mundo!\\nTudo bem?\")\n",
        "print(\"olá mundo!\\rTudo bem?\")\n",
        "print(\"olá mundo!\\tTudo bem?\")\n",
        "print(\"olá mundo!\\bTudo bem?\")\n",
        "print(\"olá mundo!\\\\Tudo bem?\")\n",
        "print(\"olá mundo!  \\x41  Tudo bem?\") # ASCII"
      ]
    },
    {
      "attachments": {},
      "cell_type": "markdown",
      "metadata": {
        "id": "UtH1p6yrGnKX"
      },
      "source": [
        "Outro tipo básico não numérico são as EXPRESSÕES BOOLEANAS:\n",
        "\n",
        "Resultam em Verdadeiro (TRUE) ou Falso (FALSE).\n",
        "São usadas em comandos condicionais e de repetição.\n",
        "Servem para analisar o estado de uma computação e permitir escolher o próximo passo."
      ]
    },
    {
      "cell_type": "code",
      "execution_count": 1,
      "metadata": {
        "colab": {
          "base_uri": "https://localhost:8080/"
        },
        "id": "usuFXSwwHQcg",
        "outputId": "67328f75-0f70-4d25-9091-7c1cd3049d08"
      },
      "outputs": [
        {
          "name": "stdout",
          "output_type": "stream",
          "text": [
            "False\n",
            "True\n",
            "False\n",
            "True\n"
          ]
        }
      ],
      "source": [
        "a = True # Verdadeiro\n",
        "b = False # Falso\n",
        "print(a and b)\n",
        "print(a or b)\n",
        "print(not a)\n",
        "print(not not a)"
      ]
    },
    {
      "attachments": {},
      "cell_type": "markdown",
      "metadata": {
        "id": "atxJx2T1Luvi"
      },
      "source": [
        "Saída de dados"
      ]
    },
    {
      "cell_type": "code",
      "execution_count": null,
      "metadata": {
        "colab": {
          "base_uri": "https://localhost:8080/"
        },
        "id": "G6iZebUZLxPf",
        "outputId": "95fae586-e4c0-4e3b-d0b1-bed4fa203c82"
      },
      "outputs": [
        {
          "name": "stdout",
          "output_type": "stream",
          "text": [
            "Eu nasci no dia 20 de novembro\n",
            "Eu nasci no dia  20  de  novembro\n",
            "Eu nasci no dia 20 de novembro\n"
          ]
        }
      ],
      "source": [
        "dia = 20\n",
        "mes = \"novembro\"\n",
        "print(f\"Eu nasci no dia {dia} de {mes}\")\n",
        "print(\"Eu nasci no dia \", dia, \" de \", mes)\n",
        "print(\"Eu nasci no dia {} de {}\".format(dia, mes))"
      ]
    },
    {
      "attachments": {},
      "cell_type": "markdown",
      "metadata": {
        "id": "_MMLfc_yL3Gz"
      },
      "source": [
        "Entrada de dados"
      ]
    },
    {
      "cell_type": "code",
      "execution_count": null,
      "metadata": {
        "colab": {
          "base_uri": "https://localhost:8080/"
        },
        "id": "0z3aOp6LL3dH",
        "outputId": "77b623c5-6408-45d3-fc13-f83a1844bbd9"
      },
      "outputs": [
        {
          "name": "stdout",
          "output_type": "stream",
          "text": [
            "texto para usuário: 10\n",
            "10\n"
          ]
        }
      ],
      "source": [
        "variavel = input(\"texto para usuário: \")\n",
        "print(variavel)"
      ]
    },
    {
      "attachments": {},
      "cell_type": "markdown",
      "metadata": {
        "id": "q_lwop75MNXp"
      },
      "source": [
        "Atribuição sinultânea"
      ]
    },
    {
      "cell_type": "code",
      "execution_count": null,
      "metadata": {
        "colab": {
          "base_uri": "https://localhost:8080/"
        },
        "id": "9ck0s6SJMMrG",
        "outputId": "e60ed069-5b37-4af8-b070-dc1b81f91e47"
      },
      "outputs": [
        {
          "name": "stdout",
          "output_type": "stream",
          "text": [
            "1 2\n"
          ]
        }
      ],
      "source": [
        "a, b = 1, 2\n",
        "print(a,b)"
      ]
    },
    {
      "attachments": {},
      "cell_type": "markdown",
      "metadata": {
        "id": "NgCjf0Q2Mg1i"
      },
      "source": [
        "Erros"
      ]
    },
    {
      "cell_type": "code",
      "execution_count": null,
      "metadata": {
        "colab": {
          "base_uri": "https://localhost:8080/"
        },
        "id": "NFVtFEHhMgCo",
        "outputId": "69618332-aa93-4327-b02d-adc1b633daf6"
      },
      "outputs": [
        {
          "data": {
            "text/plain": [
              "1"
            ]
          },
          "execution_count": 44,
          "metadata": {},
          "output_type": "execute_result"
        }
      ],
      "source": [
        "'5' + 5"
      ]
    },
    {
      "attachments": {},
      "cell_type": "markdown",
      "metadata": {
        "id": "v6hKClbbMykD"
      },
      "source": [
        "Por fim, uma vez que o comando INPUT sempre insere o dado na variável no formato STRING, é necessário converter o tipo da variável por conta de um processo chamado casting. Exemplo:"
      ]
    },
    {
      "cell_type": "code",
      "execution_count": null,
      "metadata": {
        "colab": {
          "base_uri": "https://localhost:8080/"
        },
        "id": "hlUaD-qhMyuc",
        "outputId": "d1f6447b-a75c-49e6-efbe-336e9fe6d00a"
      },
      "outputs": [
        {
          "name": "stdout",
          "output_type": "stream",
          "text": [
            "idade do cachorro: 4\n",
            "28\n"
          ]
        }
      ],
      "source": [
        "idade_cachorro = input(\"idade do cachorro: \") #3\n",
        "idade_humano = idade_cachorro * 7\n",
        "print(idade_humano)"
      ]
    },
    {
      "attachments": {},
      "cell_type": "markdown",
      "metadata": {
        "id": "QJkbDnJSNK0L"
      },
      "source": [
        "Repare que, em vez de multiplicar a idade por 7, o código replicou a idade 7 vezes. Isso se dá porque a idade do cachorro é uma STRING.\n",
        "Devemos colocar o input dentro de INT(), para que a idade seja devidamente convertida:"
      ]
    },
    {
      "cell_type": "code",
      "execution_count": null,
      "metadata": {
        "colab": {
          "base_uri": "https://localhost:8080/"
        },
        "id": "BOOLuQndNRH6",
        "outputId": "ba9c9f56-8cea-4a89-c7f1-f816d17c75ca"
      },
      "outputs": [
        {
          "name": "stdout",
          "output_type": "stream",
          "text": [
            "idade do cachorro: 7\n",
            "49\n"
          ]
        }
      ],
      "source": [
        "idade_cachorro = int(input(\"idade do cachorro: \")) #3\n",
        "idade_humano = idade_cachorro*7\n",
        "print(idade_humano)"
      ]
    },
    {
      "attachments": {},
      "cell_type": "markdown",
      "metadata": {
        "id": "qAMluKpqNf1i"
      },
      "source": [
        "Operadores"
      ]
    },
    {
      "attachments": {},
      "cell_type": "markdown",
      "metadata": {
        "id": "sczInPPlNktT"
      },
      "source": [
        "Podemos usar o código Python como uma calculadora, por exemplo:\n",
        "\n",
        "+Adição\n",
        "\n",
        "- Subtração\n",
        "\n",
        "* Multiplicação\n",
        "\n",
        "/ Divisão\n",
        "\n",
        "** Potência\n",
        "\n",
        "// Divisão que retorna o quociente inteiro\n",
        "\n",
        "% Retorna o resto inteiro da divisão"
      ]
    },
    {
      "cell_type": "code",
      "execution_count": null,
      "metadata": {
        "colab": {
          "base_uri": "https://localhost:8080/"
        },
        "id": "ZChP4oUVNhTQ",
        "outputId": "19e26912-a74b-4141-8104-0808559e925a"
      },
      "outputs": [
        {
          "data": {
            "text/plain": [
              "9"
            ]
          },
          "execution_count": 50,
          "metadata": {},
          "output_type": "execute_result"
        }
      ],
      "source": [
        "3 + 6"
      ]
    },
    {
      "cell_type": "code",
      "execution_count": null,
      "metadata": {
        "colab": {
          "base_uri": "https://localhost:8080/"
        },
        "id": "qfsNy8IDNyKd",
        "outputId": "f3e6c6c4-80fc-440e-99c2-41cc19255915"
      },
      "outputs": [
        {
          "data": {
            "text/plain": [
              "-1"
            ]
          },
          "execution_count": 51,
          "metadata": {},
          "output_type": "execute_result"
        }
      ],
      "source": [
        "8 - 9"
      ]
    },
    {
      "cell_type": "code",
      "execution_count": null,
      "metadata": {
        "colab": {
          "base_uri": "https://localhost:8080/"
        },
        "id": "coI58ul6NyPO",
        "outputId": "40a868c5-878f-4a91-fe56-8f61f0b2ac74"
      },
      "outputs": [
        {
          "data": {
            "text/plain": [
              "5.625"
            ]
          },
          "execution_count": 54,
          "metadata": {},
          "output_type": "execute_result"
        }
      ],
      "source": [
        "45/8"
      ]
    },
    {
      "cell_type": "code",
      "execution_count": null,
      "metadata": {
        "colab": {
          "base_uri": "https://localhost:8080/"
        },
        "id": "UphfhCQoNyTr",
        "outputId": "9cf9b3bf-ed23-4f3b-bc93-f16fb64eb03a"
      },
      "outputs": [
        {
          "data": {
            "text/plain": [
              "256"
            ]
          },
          "execution_count": 55,
          "metadata": {},
          "output_type": "execute_result"
        }
      ],
      "source": [
        "2 ** 8"
      ]
    },
    {
      "cell_type": "code",
      "execution_count": null,
      "metadata": {
        "colab": {
          "base_uri": "https://localhost:8080/"
        },
        "id": "amOSLXmyNyYU",
        "outputId": "aec86f17-2650-40d8-a31a-b8f9d073c387"
      },
      "outputs": [
        {
          "data": {
            "text/plain": [
              "2.0"
            ]
          },
          "execution_count": 66,
          "metadata": {},
          "output_type": "execute_result"
        }
      ],
      "source": [
        "4 / 2"
      ]
    },
    {
      "attachments": {},
      "cell_type": "markdown",
      "metadata": {
        "id": "cQIE--73OC6A"
      },
      "source": [
        "Constantes podem ser escritas com a mesma notação usada na linguagem C.\n",
        "\n",
        "HHexadecimal: preceder os dígitos com 0x.\n",
        "\n",
        "ooOctal: preceder os dígitos com 0o.\n",
        "\n",
        "BiBBbnnfjudsnBinário: preceder os dígitos com 0b.\n"
      ]
    },
    {
      "cell_type": "code",
      "execution_count": null,
      "metadata": {
        "colab": {
          "base_uri": "https://localhost:8080/"
        },
        "id": "xbyq9yziOJOc",
        "outputId": "6043c6c1-ce57-4327-cbf0-0bf4b53f81d3"
      },
      "outputs": [
        {
          "data": {
            "text/plain": [
              "15"
            ]
          },
          "execution_count": 67,
          "metadata": {},
          "output_type": "execute_result"
        }
      ],
      "source": [
        "0xF"
      ]
    },
    {
      "cell_type": "code",
      "execution_count": null,
      "metadata": {
        "colab": {
          "base_uri": "https://localhost:8080/"
        },
        "id": "jLsk38CUOL3v",
        "outputId": "b38f8286-bba8-42b2-e407-9f9f02aea2ce"
      },
      "outputs": [
        {
          "data": {
            "text/plain": [
              "8"
            ]
          },
          "execution_count": 69,
          "metadata": {},
          "output_type": "execute_result"
        }
      ],
      "source": [
        "0o10"
      ]
    },
    {
      "cell_type": "code",
      "execution_count": null,
      "metadata": {
        "colab": {
          "base_uri": "https://localhost:8080/"
        },
        "id": "v67NmxkzOYfy",
        "outputId": "388d36fa-6459-47e8-cba8-6be9ae64275b"
      },
      "outputs": [
        {
          "data": {
            "text/plain": [
              "119"
            ]
          },
          "execution_count": 68,
          "metadata": {},
          "output_type": "execute_result"
        }
      ],
      "source": [
        "0b1110111"
      ]
    },
    {
      "attachments": {},
      "cell_type": "markdown",
      "metadata": {
        "id": "lfq0q8SbOqrF"
      },
      "source": [
        "Números de ponto flutuante"
      ]
    },
    {
      "attachments": {},
      "cell_type": "markdown",
      "metadata": {
        "id": "rD-ZItRVOwHi"
      },
      "source": [
        "Para gerar uma constante de ponto flutuante, é preciso escrever com um ponto decimal, ou usar a letra e (ou E), precedendo a potência de 10."
      ]
    },
    {
      "cell_type": "code",
      "execution_count": null,
      "metadata": {
        "colab": {
          "base_uri": "https://localhost:8080/"
        },
        "id": "AYhQV-ukOqb7",
        "outputId": "548da973-8d75-4ee8-8e43-07bd2f160f7a"
      },
      "outputs": [
        {
          "data": {
            "text/plain": [
              "2000.0"
            ]
          },
          "execution_count": 70,
          "metadata": {},
          "output_type": "execute_result"
        }
      ],
      "source": [
        "2E3 # 2 x 10^3"
      ]
    },
    {
      "cell_type": "code",
      "execution_count": null,
      "metadata": {
        "colab": {
          "base_uri": "https://localhost:8080/"
        },
        "id": "24QBfdmNO02H",
        "outputId": "15f4d745-9586-48bc-9dff-2b4945b414df"
      },
      "outputs": [
        {
          "data": {
            "text/plain": [
              "0.002"
            ]
          },
          "execution_count": 71,
          "metadata": {},
          "output_type": "execute_result"
        }
      ],
      "source": [
        "2E-3 # 2 x 10^-3"
      ]
    },
    {
      "attachments": {},
      "cell_type": "markdown",
      "metadata": {
        "id": "lkjxZllNPC7X"
      },
      "source": [
        "Números complexos\n",
        "\n",
        "Representados com dois números: um para a parte real e outro para a parte imaginária.\n",
        "\n",
        "Constantes são escritas como uma soma sendo que a parte imaginária tem o sufixo j ou j."
      ]
    },
    {
      "cell_type": "code",
      "execution_count": null,
      "metadata": {
        "colab": {
          "base_uri": "https://localhost:8080/"
        },
        "id": "XDKxrUEyPEtg",
        "outputId": "187f1a19-d182-425c-e486-acec3085c4d7"
      },
      "outputs": [
        {
          "data": {
            "text/plain": [
              "(9+18j)"
            ]
          },
          "execution_count": 72,
          "metadata": {},
          "output_type": "execute_result"
        }
      ],
      "source": [
        "(3 + 6j) * 3"
      ]
    },
    {
      "attachments": {},
      "cell_type": "markdown",
      "metadata": {
        "id": "SzR03wvlPWyx"
      },
      "source": [
        "Podemos escrever constantes STRING usando três aspas duplas (“””), para não termos de escrever as quebras de linha, ou uma barra invertida, ao fim de cada linha."
      ]
    },
    {
      "cell_type": "code",
      "execution_count": null,
      "metadata": {
        "colab": {
          "base_uri": "https://localhost:8080/",
          "height": 36
        },
        "id": "W1l3EqL_PYYH",
        "outputId": "1dbce8b1-91ef-493d-cde7-2a7870064c80"
      },
      "outputs": [
        {
          "data": {
            "application/vnd.google.colaboratory.intrinsic+json": {
              "type": "string"
            },
            "text/plain": [
              "' Olá\\n    mundo\\n    de novo\\n'"
            ]
          },
          "execution_count": 73,
          "metadata": {},
          "output_type": "execute_result"
        }
      ],
      "source": [
        "\"\"\" Olá\n",
        "    mundo\n",
        "    de novo\n",
        "\"\"\""
      ]
    },
    {
      "attachments": {},
      "cell_type": "markdown",
      "metadata": {
        "id": "v6-SBB0ePteD"
      },
      "source": [
        "indices"
      ]
    },
    {
      "cell_type": "code",
      "execution_count": null,
      "metadata": {
        "colab": {
          "base_uri": "https://localhost:8080/"
        },
        "id": "PCrfbiS-PvsT",
        "outputId": "e5a9a347-aeea-4d1d-c5bb-984fdd055831"
      },
      "outputs": [
        {
          "name": "stdout",
          "output_type": "stream",
          "text": [
            "t\n",
            "s\n"
          ]
        }
      ],
      "source": [
        "a = \"teste de indices\"\n",
        "print(a[0])\n",
        "print(a[-1])"
      ]
    },
    {
      "attachments": {},
      "cell_type": "markdown",
      "metadata": {
        "id": "EgG_NCYSQVTP"
      },
      "source": [
        "fatias (slices)\n",
        "\n",
        "Notação: string[índice1:índice2:iteração] .\n",
        "\n",
        "Retorna os caracteres desde o de índice 1 (inclusivo) até o de Índice 2 \n",
        "(exclusivo).\n",
        "\n",
        "Se o primeiro índice é omitido, é assumido como .\n",
        "\n",
        "Se o segundo índice é omitido, é assumido o fim da\n",
        "Iteração ou passo é como caminha a fatia.\n"
      ]
    },
    {
      "cell_type": "code",
      "execution_count": null,
      "metadata": {
        "colab": {
          "base_uri": "https://localhost:8080/"
        },
        "id": "gvBk7lGDQaVO",
        "outputId": "43a138ad-f3ec-434f-8379-6456b299043b"
      },
      "outputs": [
        {
          "name": "stdout",
          "output_type": "stream",
          "text": [
            "te\n",
            "ste de indice\n"
          ]
        }
      ],
      "source": [
        "a = \"teste de indices\"\n",
        "print(a[0:2])\n",
        "print(a[2:-1])"
      ]
    },
    {
      "attachments": {},
      "cell_type": "markdown",
      "metadata": {
        "id": "75xP5W0UQyZ-"
      },
      "source": [
        "Módulos\n",
        "\n",
        "\n",
        "Além dos operadores, podemos usar funções para fazer determinadas operações. Aqui vão alguns exemplos e formas de uso:\n",
        "\n",
        "\n",
        "As funções abs(), chr() e ord() são funções embutidas do Python\n",
        "\n",
        "abs() retorna o valor absoluto .\n",
        "\n",
        "chr() retorna o caractere cujo código ASCII é .\n",
        "\n",
        "ord() retorna o código ASCII do caractere  "
      ]
    },
    {
      "cell_type": "code",
      "execution_count": null,
      "metadata": {
        "colab": {
          "base_uri": "https://localhost:8080/"
        },
        "id": "OBjIydlWQ1lZ",
        "outputId": "baf1414f-3f7c-4e81-fd99-a6a89c551bed"
      },
      "outputs": [
        {
          "name": "stdout",
          "output_type": "stream",
          "text": [
            "2.5647\n",
            "A\n",
            "65\n"
          ]
        }
      ],
      "source": [
        "print(abs(-2.5647))\n",
        "print(chr(65))\n",
        "print(ord('A')) # ASCII"
      ]
    },
    {
      "attachments": {},
      "cell_type": "markdown",
      "metadata": {
        "id": "Gv7yZujUxgbZ"
      },
      "source": [
        "Estrutura de seleção simples (IF)"
      ]
    },
    {
      "attachments": {},
      "cell_type": "markdown",
      "metadata": {
        "id": "PeWYx3bexlM3"
      },
      "source": [
        "A estrutura de seleção if é um dos conceitos básicos mais importantes e significativos da programação, não só da linguagem Python. Sem ela, nada de verdadeiramente útil pode ser feito em um código."
      ]
    },
    {
      "cell_type": "code",
      "execution_count": null,
      "metadata": {
        "colab": {
          "base_uri": "https://localhost:8080/"
        },
        "id": "DF_VNIAexhu4",
        "outputId": "2166899a-d882-4752-9c64-4045d3846f3f"
      },
      "outputs": [
        {
          "name": "stdout",
          "output_type": "stream",
          "text": [
            "O valor de a é 1\n"
          ]
        }
      ],
      "source": [
        "a = 1\n",
        "if a == 1: # True\n",
        "  print(\"O valor de a é 1\")"
      ]
    },
    {
      "cell_type": "code",
      "execution_count": null,
      "metadata": {
        "colab": {
          "base_uri": "https://localhost:8080/"
        },
        "id": "Mqn29LQlx_ax",
        "outputId": "636aee86-cb7a-46b9-d736-e958934ff46a"
      },
      "outputs": [
        {
          "name": "stdout",
          "output_type": "stream",
          "text": [
            "O valor de a é 1\n",
            "O valor de a é igual ou maior que 1\n"
          ]
        }
      ],
      "source": [
        "a = 1\n",
        "if a == 1:\n",
        "  print(\"O valor de a é 1\")\n",
        "if a >= 1:\n",
        "  print(\"O valor de a é igual ou maior que 1\")"
      ]
    },
    {
      "attachments": {},
      "cell_type": "markdown",
      "metadata": {
        "id": "L7b0w0oYyTNZ"
      },
      "source": [
        "Estrutura de seleção composta (IF-ELSE)"
      ]
    },
    {
      "attachments": {},
      "cell_type": "markdown",
      "metadata": {
        "id": "Lf194h6CyZqL"
      },
      "source": [
        "Vimos anteriormente como utilizar a sentença if, para executar uma ação, caso a condição seja atendida. No entanto, nenhum comportamento específico foi definido para o caso de a condição não ser satisfeita. Para tal, usamos a sentença else."
      ]
    },
    {
      "cell_type": "code",
      "execution_count": null,
      "metadata": {
        "colab": {
          "base_uri": "https://localhost:8080/"
        },
        "id": "XylS2IXgyTf7",
        "outputId": "6b9ad0fe-dfdb-47a7-ba2a-151914fc927f"
      },
      "outputs": [
        {
          "name": "stdout",
          "output_type": "stream",
          "text": [
            "O valor de a é 1\n"
          ]
        }
      ],
      "source": [
        "a = 1\n",
        "if a == 1:\n",
        "  print(\"O valor de a é 1\")\n",
        "else:\n",
        "  print(\"O valor de a não é 1\")"
      ]
    },
    {
      "attachments": {},
      "cell_type": "markdown",
      "metadata": {
        "id": "VORblbE0Axts"
      },
      "source": [
        "Estrutura de seleção encadeada (IF – ELIF – ELSE)"
      ]
    },
    {
      "attachments": {},
      "cell_type": "markdown",
      "metadata": {
        "id": "AcT-w8-WA_O1"
      },
      "source": [
        "PYTHON tem uma sentença especial, a fim de ajudar os encadeamentos de if-else. Tal sentença se chama elif."
      ]
    },
    {
      "cell_type": "code",
      "execution_count": null,
      "metadata": {
        "colab": {
          "base_uri": "https://localhost:8080/"
        },
        "id": "2HDcbikIAy2a",
        "outputId": "57f9348e-c118-4f9b-b7b7-19aaf6fc1808"
      },
      "outputs": [
        {
          "name": "stdout",
          "output_type": "stream",
          "text": [
            "O valor de a é 2\n"
          ]
        }
      ],
      "source": [
        "a = 2\n",
        "if a == 1:\n",
        "  print(\"O valor de a é 1\")\n",
        "elif a==2:\n",
        "  print(\"O valor de a é 2\")\n",
        "else:\n",
        "  print(\"O valor de a não é 1\")"
      ]
    }
  ],
  "metadata": {
    "colab": {
      "provenance": []
    },
    "kernelspec": {
      "display_name": "Python 3",
      "name": "python3"
    },
    "language_info": {
      "codemirror_mode": {
        "name": "ipython",
        "version": 3
      },
      "file_extension": ".py",
      "mimetype": "text/x-python",
      "name": "python",
      "nbconvert_exporter": "python",
      "pygments_lexer": "ipython3",
      "version": "3.11.3"
    }
  },
  "nbformat": 4,
  "nbformat_minor": 0
}
