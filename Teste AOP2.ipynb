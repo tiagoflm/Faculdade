{
  "cells": [
    {
      "attachments": {},
      "cell_type": "markdown",
      "metadata": {
        "id": "G90zxY79qIXe"
      },
      "source": [
        "<?xml version=\"1.0\" encoding=\"UTF-8\"?>\n",
        "<html>\n",
        "  <body>\n",
        "    <header></header>\n",
        "        <CENTER>\n",
        "          <img src=\"https://www.uvv.br/wp-content/themes/uvvBr/templates/assets//img/logouvv.svg\" alt=\"UVV-LOGO\" style = width=\"100px\"; height=\"100px\">\n",
        "        </CENTER>\n",
        "        <CENTER><b>Introdução à Programação de Computadores - PYTHON</b></CENTER>\n",
        "        <CENTER><b>Prof.: Alessandro Bertolani Oliveira</b>\n",
        "        <CENTER><b>ATIVIDADE ONLINE PONTUADA 2</b></CENTER><br/>"
      ]
    },
    {
      "attachments": {},
      "cell_type": "markdown",
      "metadata": {
        "id": "yGV4CEnF3gTT"
      },
      "source": [
        "NOME DO ALUNO:"
      ]
    },
    {
      "attachments": {},
      "cell_type": "markdown",
      "metadata": {
        "id": "mUAxhTYL3ivG"
      },
      "source": [
        "LINK PARA MEU NOTEBOOK COLAB: [Clique aqui!](https://)"
      ]
    },
    {
      "attachments": {},
      "cell_type": "markdown",
      "metadata": {
        "id": "yZfJjeQgqTo_"
      },
      "source": [
        "# ATIVIDADES ONLINE PONTUADA 2:"
      ]
    },
    {
      "attachments": {},
      "cell_type": "markdown",
      "metadata": {
        "id": "LN1vCfK119RZ"
      },
      "source": [
        "Faça um algoritmo em Python que leia de cem (100) alunos de um curso EAD da UVV:  \n",
        "\n",
        "*   LER DO USUÁRIO: Nota [0, 1] na AOP1: Atividade Online Pontuada 1;\n",
        "\n",
        "*   LER DO USUÁRIO: Nota [0, 2] na AOP2: Atividade Online Pontuada 2; \n",
        "\n",
        "*   LER DO USUÁRIO: Nota [0, 1] na AOP3: Atividade Online Pontuada 3; \n",
        "\n",
        "*   LER DO USUÁRIO: Nota [0, 6] da PROVA REGULAR;\n",
        "\n",
        "*   LER DO USUÁRIO: Nota [0, 10] da PROVA DE RECUPERAÇÃO: Se o alunos não obteve Média do Módulo (MM) = AOP1 + APO2 + AOP3 + PROVA REGULAR >= 7.0 \n",
        " \n",
        "E, calcule e mostre na tela: as informações a seguir: \n",
        "\n",
        "*  Média do Módulo (MM) = AOP1 + APO2 + AOP3 + PROVA REGULAR \n",
        "\n",
        "**EXIBIR:**\n",
        "\n",
        "*  Status do Aluno: Aprovado ou Reprovado; \n",
        "\n",
        "*  A quantidade de alunos (em porcentagem) que foram: Aprovado ou Reprovado; \n",
        "\n",
        "Lembrando que, é considerado com Status Aprovado, o aluno que: \n",
        "\n",
        "*  Obteve Média do Módulo >= 7.0 ou \n",
        "\n",
        "*  Obteve Média Geral (com a Prova de Recuperação) >= 5.0 \n",
        "\n",
        "**OBSERVAÇÃO:** Para testar seu programa reduzir a quantidade de alunos da turma para 5 alunos, apenas. \n"
      ]
    },
    {
      "cell_type": "code",
      "execution_count": 1,
      "metadata": {
        "id": "WyAa1i5c3ddS"
      },
      "outputs": [
        {
          "name": "stdout",
          "output_type": "stream",
          "text": [
            "Ok, vamos continuar!\n",
            "Ok, vamos continuar!\n",
            "Ok, vamos continuar!\n",
            "Média no módulo para  tiago  é  7.5\n",
            "Sem necessidade de recuperação. Bom trabalho!\n",
            "///////////////\n",
            "Ok, vamos continuar!\n",
            "Ok, vamos continuar!\n",
            "Ok, vamos continuar!\n",
            "Média no módulo para  PARAR  é  8.0\n",
            "Sem necessidade de recuperação. Bom trabalho!\n",
            "///////////////\n",
            "Sua lista está disponível para conferência abaixo\n"
          ]
        }
      ],
      "source": [
        "from re import A\n",
        "# FAZER SEU CÓDIGO AQUI:\n",
        "\n",
        "# Criando a lista de alunos\n",
        "\n",
        "alunos = []\n",
        "nota_aop1 = []\n",
        "nota_aop2 = []\n",
        "nota_aop3 = []\n",
        "nota_prova1 = []\n",
        "nota_prova2 = []\n",
        "\n",
        "while True:\n",
        "  nome = input('Insira nome do(a) Aluno(a): ')\n",
        "  while True:\n",
        "    aop1 = float(input('Insira nota da AOP1 (entre 0 e 1): '))\n",
        "    if aop1 < 0 or aop1 > 1:\n",
        "      print('ERRO: Preencha um valor válido em AOP1 e tente novamente')\n",
        "    else:\n",
        "      print('Ok, vamos continuar!')\n",
        "      break\n",
        "  while True:\n",
        "    aop2 = float(input('Insira nota da AOP2 (entre 0 e 2): '))\n",
        "    if aop2 < 0 or aop2 > 2:\n",
        "      print('ERRO: Preencha um valor válido em AOP2 e tente novamente')\n",
        "    else:\n",
        "      print('Ok, vamos continuar!')\n",
        "      break\n",
        "  while True:\n",
        "    aop3 = float(input('Insira nota da AOP3 (entre 0 e 1): '))\n",
        "    if aop3 < 0 or aop3 > 1:\n",
        "      print('ERRO: Preencha um valor válido em AOP3 e tente novamente')\n",
        "    else:\n",
        "      print('Ok, vamos continuar!')\n",
        "      break\n",
        "  while True:\n",
        "    prova1 = float(input('Insira nota da Prova (entre 0 e 6): '))\n",
        "    if prova1 < 0 or prova1 > 6:\n",
        "      print('ERRO: Preencha um valor válido em Prova e tente novamente')\n",
        "    else:\n",
        "      break\n",
        "\n",
        "  media_regular = aop1 + aop2 + aop3 + prova1\n",
        "  print('Média no módulo para ', nome,' é ', media_regular)\n",
        "\n",
        "  if media_regular < 7:\n",
        "    while True:\n",
        "      prova2 = float(input('Insira nota da Recuperação (entre 0 e 10): '))\n",
        "      if prova2 < 0 or prova2 > 10:\n",
        "        print('ERRO: Preencha um valor válido em Recuperação e tente novamente')\n",
        "      else:\n",
        "        break\n",
        "  else:\n",
        "    print('Sem necessidade de recuperação. Bom trabalho!')\n",
        "    prova2 = 0\n",
        "\n",
        "  alunos.append(nome)\n",
        "  nota_aop1.append(aop1)\n",
        "  nota_aop2.append(aop2)\n",
        "  nota_aop3.append(aop3)\n",
        "  nota_prova1.append(prova1)\n",
        "  nota_prova2.append(prova2)\n",
        "\n",
        "  loop = input('PRONTO! Terminamos? Então escreva PARAR')\n",
        "  if loop == ('PARAR'):\n",
        "    break\n",
        "  else:\n",
        "    print('///////////////')\n",
        "    continue\n",
        "\n",
        "\n",
        "print('///////////////')\n",
        "print('Sua lista está disponível para conferência abaixo')\n",
        "\n"
      ]
    },
    {
      "cell_type": "code",
      "execution_count": null,
      "metadata": {
        "colab": {
          "base_uri": "https://localhost:8080/"
        },
        "id": "wM5CngS5r55e",
        "outputId": "4bc1bcb6-2e25-4a4b-d4ce-2de61f4ede9c"
      },
      "outputs": [
        {
          "name": "stdout",
          "output_type": "stream",
          "text": [
            "Estão aprovados 3 alunos e estão reprovados 2 alunos\n",
            "Isso representa uma taxa de APROVAÇÃO de 60 %\n",
            "Isso representa uma taxa de REPROVAÇÃO de 40 %\n"
          ]
        }
      ],
      "source": [
        "#Usando a lista abaixo para testar\n",
        "alunos = ['Ana', 'Bia', 'Carlos', 'Diego', 'Elias']\n",
        "nota_aop1 = [1.0, 1.0, 0.0, 0.0, 0.0]\n",
        "nota_aop2 = [2.0, 2.0, 1.0, 0.0, 0.0]\n",
        "nota_aop3 = [1.0, 1.0, 0.0, 1.0, 0.0]\n",
        "nota_prova1 = [6.0, 3.0, 5.0, 0.0, 0.0]\n",
        "nota_prova2 = [0.0, 0.0, 7.0, 2.0, 0.0]\n",
        "\n",
        "#Calculando quantos estão aprovados\n",
        "\n",
        "mm = []\n",
        "mg = []\n",
        "aprovar = []\n",
        "\n",
        "\n",
        "for x in alunos:\n",
        "  idx = alunos.index(x)\n",
        "  soma = nota_aop1[idx] + nota_aop2[idx] + nota_aop3[idx] + nota_prova1[idx]\n",
        "  if soma < 7:\n",
        "    soma2 = (soma + nota_prova2[idx]) / 2\n",
        "    if soma2 >= 5:\n",
        "      status = True\n",
        "    else:\n",
        "      soma2 = 0\n",
        "      status = False\n",
        "  else:\n",
        "    status = True\n",
        "\n",
        "  aprovar.append(status)\n",
        "  mm.append(soma)\n",
        "  mg.append(soma2)\n",
        "\n",
        "print('Estão aprovados', aprovar.count(True), 'alunos e estão reprovados', aprovar.count(False), 'alunos')\n",
        "print('Isso representa uma taxa de APROVAÇÃO de', int(aprovar.count(True) / len(aprovar) * 100),'%')\n",
        "print('Isso representa uma taxa de REPROVAÇÃO de', int(aprovar.count(False) / len(aprovar) * 100),'%')\n",
        "\n"
      ]
    },
    {
      "cell_type": "code",
      "execution_count": null,
      "metadata": {
        "colab": {
          "base_uri": "https://localhost:8080/"
        },
        "id": "NHnfxgka_1D3",
        "outputId": "153724fa-f813-437f-d0ff-06701ad263a5"
      },
      "outputs": [
        {
          "name": "stdout",
          "output_type": "stream",
          "text": [
            "Qual aluno(a) você quer consultar? bIA\n",
            "Não encontramos este nome. Tente novamente!\n",
            "Qual aluno(a) você quer consultar? Bia\n",
            "Aqui estão os resultados para Bia\n",
            "AOP1: 1.0\n",
            "AOP2: 2.0\n",
            "AOP3: 1.0\n",
            "Prova: 3.0\n",
            "Média do Módulo(MM): 7.0\n",
            "APROVADO\n",
            "///////////////\n",
            "Qual aluno(a) você quer consultar? PARAR\n"
          ]
        }
      ],
      "source": [
        "#sistema de pesquisa\n",
        "while True:\n",
        "  q = input('Qual aluno(a) você quer consultar? ')\n",
        "  if q == 'PARAR':\n",
        "    break\n",
        "  else:\n",
        "    if q not in alunos:\n",
        "      print('Não encontramos este nome. Tente novamente!')\n",
        "      continue\n",
        "    else:\n",
        "      r = alunos.index(q)\n",
        "\n",
        "      print('Aqui estão os resultados para', q)\n",
        "      print('AOP1:', nota_aop1[r])\n",
        "      print('AOP2:', nota_aop2[r])\n",
        "      print('AOP3:', nota_aop3[r])\n",
        "      print('Prova:', nota_prova1[r])\n",
        "      print('Média do Módulo(MM):', mm[r])\n",
        "      if mm[r] < 7:\n",
        "        print('Recuperação:', nota_prova2[r])\n",
        "      if mm[r] <7:\n",
        "        print('Média Geral:', mg[r])\n",
        "      if aprovar[r] is True:\n",
        "        status = 'APROVADO'\n",
        "      else:\n",
        "        status = 'REPROVADO'\n",
        "\n",
        "      print(status)\n",
        "      print('///////////////')\n"
      ]
    },
    {
      "attachments": {},
      "cell_type": "markdown",
      "metadata": {
        "id": "OQRosfpn3_xz"
      },
      "source": [
        "COMO ENTREGAR A AOP2:\n",
        "\n",
        "*   **IMPRIMIR (NO SENTIDO PAISAGEM) ESTE NOTEBOOK EM PDF E FAZER O UPLOAD NO AVA.**\n"
      ]
    }
  ],
  "metadata": {
    "colab": {
      "provenance": []
    },
    "kernelspec": {
      "display_name": "Python 3",
      "name": "python3"
    },
    "language_info": {
      "codemirror_mode": {
        "name": "ipython",
        "version": 3
      },
      "file_extension": ".py",
      "mimetype": "text/x-python",
      "name": "python",
      "nbconvert_exporter": "python",
      "pygments_lexer": "ipython3",
      "version": "3.11.3"
    }
  },
  "nbformat": 4,
  "nbformat_minor": 0
}
