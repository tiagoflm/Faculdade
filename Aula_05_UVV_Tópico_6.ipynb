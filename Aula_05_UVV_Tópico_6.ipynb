{
  "nbformat": 4,
  "nbformat_minor": 0,
  "metadata": {
    "colab": {
      "provenance": []
    },
    "kernelspec": {
      "name": "python3",
      "display_name": "Python 3"
    },
    "language_info": {
      "name": "python"
    }
  },
  "cells": [
    {
      "cell_type": "markdown",
      "source": [
        "# Estrutura de Repetição"
      ],
      "metadata": {
        "id": "m00F2NEv4N2d"
      }
    },
    {
      "cell_type": "markdown",
      "source": [
        "Vamos aprender agora uma técnica essencial de programação, que pode ser conhecida como REPETIÇÃO, LAÇO ou LOOP."
      ],
      "metadata": {
        "id": "un6Ohw9t4nF8"
      }
    },
    {
      "cell_type": "markdown",
      "source": [
        "\"Laços (loops) são estruturas de repetição, geralmente usados para processar coleções de dados, tais como linhas de um arquivo ou registros de um banco de dados, que precisam ser processados por um mesmo bloco de código\".\n",
        "BORGES, Luiz Eduardo. 2ª edição: 2010, página 28."
      ],
      "metadata": {
        "id": "k7bKy0a741BE"
      }
    },
    {
      "cell_type": "markdown",
      "source": [
        "Vamos criar um código PYTHON que mostre uma sequência numérica de cinco elementos, que sejam exibidos a partir de um número de entrada."
      ],
      "metadata": {
        "id": "DkzHyG2y46ZB"
      }
    },
    {
      "cell_type": "code",
      "source": [
        "x = 5\n",
        "print(x)\n",
        "print(x+1)\n",
        "print(x+2)\n",
        "print(x+3)\n",
        "print(x+4)\n",
        "print(x+5)"
      ],
      "metadata": {
        "colab": {
          "base_uri": "https://localhost:8080/"
        },
        "id": "Zx3fqo_e4ta6",
        "outputId": "7a3259ba-e906-4b96-9297-6c237c84b3ec"
      },
      "execution_count": 1,
      "outputs": [
        {
          "output_type": "stream",
          "name": "stdout",
          "text": [
            "5\n",
            "6\n",
            "7\n",
            "8\n",
            "9\n",
            "10\n"
          ]
        }
      ]
    },
    {
      "cell_type": "markdown",
      "source": [
        "Podemos perceber que temos cinco prints, portanto, um código de ampla repetição. Nesse caso, apesar de repetitivo, é fácil, mas imaginemos um caso em que tenhamos necessidade de imprimir uma sequência de cem números. Para facilitar e evitar que a repetição seja feita em linhas de código, podemos utilizar uma estrutura de repetição."
      ],
      "metadata": {
        "id": "avIk-WL65PoZ"
      }
    },
    {
      "cell_type": "markdown",
      "source": [
        "# Uso dos comandos: for, in range, while e break"
      ],
      "metadata": {
        "id": "2eSvmWeS5nfc"
      }
    },
    {
      "cell_type": "markdown",
      "source": [
        "FOR"
      ],
      "metadata": {
        "id": "boiwoq595whw"
      }
    },
    {
      "cell_type": "markdown",
      "source": [
        "Se você já entrou em contato com o FOR, em outras linguagens, vai ver algumas diferenças na utilização dele em PYTHON. Por exemplo, em C, o FOR é usado para criar uma iteração e definir uma condição já parada."
      ],
      "metadata": {
        "id": "Lmkn5iQA5xQy"
      }
    },
    {
      "cell_type": "markdown",
      "source": [
        "\"Os loops FOR são para iterar sobre uma coleção (como uma lista ou tupla) ou um iterador. A sintaxe padrão para um loop FOR é\".\n",
        "\n",
        "for valor in sequência:\n",
        "#faça alguma coisa aqui com \"valor\"\n",
        "\n",
        "Wes McKinney, 2ª edição: 2017, página 47."
      ],
      "metadata": {
        "id": "EDgskMq155PL"
      }
    },
    {
      "cell_type": "markdown",
      "source": [
        "Assim, ocorre uma repetição do bloco for, enquanto iteramos sobre sequência.\n",
        "\n",
        "Durante a execução, valor aponta para um elemento de sequência.\n",
        "A cada iteração, valor é atualizado, para que o bloco de código processe o elemento correspondente."
      ],
      "metadata": {
        "id": "CIsNt3qU5__i"
      }
    },
    {
      "cell_type": "code",
      "execution_count": 7,
      "metadata": {
        "colab": {
          "base_uri": "https://localhost:8080/"
        },
        "id": "rOuid2lU4JJ0",
        "outputId": "cfdc8097-2e4b-4fc6-b98d-131ec9bb353f"
      },
      "outputs": [
        {
          "output_type": "stream",
          "name": "stdout",
          "text": [
            "30\n"
          ]
        }
      ],
      "source": [
        "sequencia = [1, 2, 3, 4, 5] # lista em python\n",
        "# comentar ctlr+K ctlr+C, descomentar ctrl+k ctlr+U\n",
        "total = 0 # variavel\n",
        "for valor in sequencia: #loop - iterar\n",
        "   total += valor #incrementa a variavel com ela mesma mais o valor\n",
        "print(total)"
      ]
    },
    {
      "cell_type": "code",
      "source": [
        "print(type(sequencia))"
      ],
      "metadata": {
        "colab": {
          "base_uri": "https://localhost:8080/"
        },
        "id": "DpLh0JiN6LuV",
        "outputId": "0e8dcee0-40cb-4616-c06e-8f8e805c1303"
      },
      "execution_count": 8,
      "outputs": [
        {
          "output_type": "stream",
          "name": "stdout",
          "text": [
            "<class 'list'>\n"
          ]
        }
      ]
    },
    {
      "cell_type": "markdown",
      "source": [
        "# Lista"
      ],
      "metadata": {
        "id": "jwUuOBbd6blG"
      }
    },
    {
      "cell_type": "markdown",
      "source": [
        "As listas são usadas para armazenar vários itens em uma única variável. As listas são um dos 4 tipos de dados integrados em Python usados ​​para armazenar coleções de dados, os outros 3 são Tuple, Set e Dictionary, todos com diferentes qualidades e uso. As listas são criadas usando colchetes:"
      ],
      "metadata": {
        "id": "MQN11NMm6eil"
      }
    },
    {
      "cell_type": "code",
      "source": [
        "thislist = [\"apple\", \"banana\", \"cherry\"] # lista de string\n",
        "print(thislist[0]) # primmeiro elemento"
      ],
      "metadata": {
        "colab": {
          "base_uri": "https://localhost:8080/"
        },
        "id": "eAv9KBsn6ep8",
        "outputId": "fd09920a-4dae-4752-e622-86472b2587f4"
      },
      "execution_count": 16,
      "outputs": [
        {
          "output_type": "stream",
          "name": "stdout",
          "text": [
            "apple\n"
          ]
        }
      ]
    },
    {
      "cell_type": "markdown",
      "source": [
        "Itens da lista"
      ],
      "metadata": {
        "id": "pSYfxcXP6zeV"
      }
    },
    {
      "cell_type": "markdown",
      "source": [
        "Os itens da lista são ordenados, alteráveis ​​e permitem valores duplicados.\n",
        "\n",
        "Os itens da lista são indexados, o primeiro item tem index [0], o segundo item tem index [1]etc."
      ],
      "metadata": {
        "id": "peElE0zA615p"
      }
    },
    {
      "cell_type": "code",
      "source": [
        "print(thislist[0])"
      ],
      "metadata": {
        "colab": {
          "base_uri": "https://localhost:8080/"
        },
        "id": "eB3JgI_16sv9",
        "outputId": "7cfc9299-a82e-43e9-b618-1a897cbc1ebc"
      },
      "execution_count": 18,
      "outputs": [
        {
          "output_type": "stream",
          "name": "stdout",
          "text": [
            "apple\n"
          ]
        }
      ]
    },
    {
      "cell_type": "markdown",
      "source": [
        "# ordenado\n",
        "Quando dizemos que as listas são ordenadas, significa que os itens possuem uma ordem definida, e essa ordem não será alterada.\n",
        "\n",
        "Se você adicionar novos itens a uma lista, os novos itens serão colocados no final da lista.\n",
        "\n",
        "Obs: Existem alguns métodos de lista que vão mudar a ordem, mas em geral: a ordem dos itens não vai mudar.\n",
        "\n",
        "# Mutável\n",
        "A lista é mutável, o que significa que podemos alterar, adicionar e remover itens de uma lista depois de criada.\n",
        "\n",
        "# Permitir Duplicatas\n",
        "Como as listas são indexadas, as listas podem ter itens com o mesmo valor:"
      ],
      "metadata": {
        "id": "_Hso6BD47JB9"
      }
    },
    {
      "cell_type": "code",
      "source": [
        "thislist = [\"apple\", \"banana\", \"cherry\", \"apple\", \"cherry\"]\n",
        "thislist[0] = \"banana\"\n",
        "print(thislist)"
      ],
      "metadata": {
        "colab": {
          "base_uri": "https://localhost:8080/"
        },
        "id": "ny3qQjFE7W2c",
        "outputId": "e895edbd-2ab1-4a1b-ddcf-fbd99b9fe115"
      },
      "execution_count": 19,
      "outputs": [
        {
          "output_type": "stream",
          "name": "stdout",
          "text": [
            "['banana', 'banana', 'cherry', 'apple', 'cherry']\n"
          ]
        }
      ]
    },
    {
      "cell_type": "markdown",
      "source": [
        "# Comprimento da lista\n",
        "Para determinar quantos itens uma lista tem, use a len()função:"
      ],
      "metadata": {
        "id": "-1V7mvps7fyM"
      }
    },
    {
      "cell_type": "code",
      "source": [
        "thislist = [\"apple\", \"banana\", \"cherry\"]\n",
        "print(len(thislist)) # len() me dá o tamanho da lista"
      ],
      "metadata": {
        "colab": {
          "base_uri": "https://localhost:8080/"
        },
        "id": "rwQku8Nq7hbV",
        "outputId": "515b3703-bfcb-4387-a428-b2f130d399b5"
      },
      "execution_count": 20,
      "outputs": [
        {
          "output_type": "stream",
          "name": "stdout",
          "text": [
            "3\n"
          ]
        }
      ]
    },
    {
      "cell_type": "markdown",
      "source": [
        "Matriz"
      ],
      "metadata": {
        "id": "v1-IZxbJUBgf"
      }
    },
    {
      "cell_type": "code",
      "source": [
        "matriz = [[1,2,3],[4,5,6]] # lista de listas\n",
        "print(matriz[0][2])\n",
        "print(matriz[1][1])"
      ],
      "metadata": {
        "colab": {
          "base_uri": "https://localhost:8080/"
        },
        "id": "3YMgppyyUEBF",
        "outputId": "defa03db-cbb2-47d3-8912-2c5ba6e9bafe"
      },
      "execution_count": 24,
      "outputs": [
        {
          "output_type": "stream",
          "name": "stdout",
          "text": [
            "3\n",
            "5\n"
          ]
        }
      ]
    },
    {
      "cell_type": "markdown",
      "source": [
        "# Itens de lista - Tipos de dados\n",
        "Os itens da lista podem ser de qualquer tipo de dados:"
      ],
      "metadata": {
        "id": "3pJmB2Wb7k8-"
      }
    },
    {
      "cell_type": "code",
      "source": [
        "list1 = [\"apple\", \"banana\", \"cherry\"]\n",
        "list2 = [1, 5, 7, 9, 3]\n",
        "list3 = [True, False, False]"
      ],
      "metadata": {
        "id": "IVrqnkI17lMu"
      },
      "execution_count": null,
      "outputs": []
    },
    {
      "cell_type": "code",
      "source": [
        "print(type(list1[0]))\n",
        "print(type(list2[0]))\n",
        "print(type(list3[0]))"
      ],
      "metadata": {
        "colab": {
          "base_uri": "https://localhost:8080/"
        },
        "id": "Qv5lOPxp8JGR",
        "outputId": "59960ca1-370c-492c-fcb9-d92ee5c1d3a0"
      },
      "execution_count": null,
      "outputs": [
        {
          "output_type": "stream",
          "name": "stdout",
          "text": [
            "<class 'str'>\n",
            "<class 'int'>\n",
            "<class 'bool'>\n"
          ]
        }
      ]
    },
    {
      "cell_type": "markdown",
      "source": [
        "Uma lista pode conter diferentes tipos de dados:\n",
        "\n"
      ],
      "metadata": {
        "id": "qiC49aOr8W9E"
      }
    },
    {
      "cell_type": "markdown",
      "source": [
        "Uma lista com strings, inteiros e valores booleanos:\n",
        "\n"
      ],
      "metadata": {
        "id": "EUtMaJUtAd6W"
      }
    },
    {
      "cell_type": "code",
      "source": [
        "list1 = [\"abc\", 34, True, 40, \"male\"]"
      ],
      "metadata": {
        "id": "2SDocnT_AeYd"
      },
      "execution_count": 27,
      "outputs": []
    },
    {
      "cell_type": "code",
      "source": [
        "print(type(list1[0]))\n",
        "print(type(list1[2]))\n",
        "print(type(list1[3]))"
      ],
      "metadata": {
        "colab": {
          "base_uri": "https://localhost:8080/"
        },
        "id": "3K8G16YVAkF_",
        "outputId": "e48a2ade-1c61-4dfc-8d50-baced7c2b33f"
      },
      "execution_count": 28,
      "outputs": [
        {
          "output_type": "stream",
          "name": "stdout",
          "text": [
            "<class 'str'>\n",
            "<class 'bool'>\n",
            "<class 'int'>\n"
          ]
        }
      ]
    },
    {
      "cell_type": "markdown",
      "source": [
        "# O Construtor list()"
      ],
      "metadata": {
        "id": "HM1dgRZbAu2h"
      }
    },
    {
      "cell_type": "markdown",
      "source": [
        "Também é possível usar o construtor list() ao criar uma nova lista.\n",
        "\n",
        "\n",
        "Usando o list()construtor para fazer uma lista:"
      ],
      "metadata": {
        "id": "NbKRSdJoAwQN"
      }
    },
    {
      "cell_type": "code",
      "source": [
        "tupla = (\"apple\", \"banana\", \"cherry\")\n",
        "thislist = list(tupla) # funçao que cria list() -> tupla (el1, el2,...)\n",
        "print(thislist)"
      ],
      "metadata": {
        "colab": {
          "base_uri": "https://localhost:8080/"
        },
        "id": "Ip6jDOV7AuJf",
        "outputId": "63e69ae3-da98-4e11-e74a-eea913a1da4f"
      },
      "execution_count": 36,
      "outputs": [
        {
          "output_type": "stream",
          "name": "stdout",
          "text": [
            "['banana', 'banana', 'cherry']\n"
          ]
        }
      ]
    },
    {
      "cell_type": "markdown",
      "source": [
        "No exemplo apresentado, VALOR percorre a sequência, portanto, na primeira vez que o código passa pelo FOR, ele vale 1. Na segunda vez ,vale 2, e assim por diante.\n",
        "\n",
        "Vamos testar, agora, com outra sequência."
      ],
      "metadata": {
        "id": "KfdDndpuBF5P"
      }
    },
    {
      "cell_type": "code",
      "source": [
        "sequencia = [1, -7, 1+1J, 2, None, 3, 3.3, 4, 5]\n",
        "total = 0\n",
        "for valor in sequencia:\n",
        "  if isinstance(valor,int) and valor >= 0: # teste se é tipo inteiro e é maior ou igual a zero\n",
        "    total += valor\n",
        "print(total)"
      ],
      "metadata": {
        "colab": {
          "base_uri": "https://localhost:8080/"
        },
        "id": "L4t_W8MBBGYj",
        "outputId": "98df2647-585f-4258-909f-ae97b24ff9e5"
      },
      "execution_count": 38,
      "outputs": [
        {
          "output_type": "stream",
          "name": "stdout",
          "text": [
            "15\n"
          ]
        }
      ]
    },
    {
      "cell_type": "code",
      "source": [
        "print(isinstance(1, int))"
      ],
      "metadata": {
        "colab": {
          "base_uri": "https://localhost:8080/"
        },
        "id": "uNoi4QZZBXtX",
        "outputId": "91e8d357-8132-4871-e3a6-5757bc447533"
      },
      "execution_count": 41,
      "outputs": [
        {
          "output_type": "stream",
          "name": "stdout",
          "text": [
            "True\n"
          ]
        }
      ]
    },
    {
      "cell_type": "markdown",
      "source": [
        "No exemplo, mantivemos a sequência, porém, adicionamos aleatoriamente valores não inteiros na lista. Dentro do FOR, há uma avaliação dos valores que são INT antes de fazer a soma. Portanto, o resultado de saída é o mesmo do exemplo anterior.\n",
        "\n",
        "\n",
        "O laço de repetição FOR possui a estrutura ELSE."
      ],
      "metadata": {
        "id": "OYmTNmOqB-YP"
      }
    },
    {
      "cell_type": "markdown",
      "source": [
        "A elsepalavra-chave em um forloop especifica um bloco de código a ser executado quando o loop terminar:\n",
        "\n"
      ],
      "metadata": {
        "id": "iQQWPU9ZDCgY"
      }
    },
    {
      "cell_type": "code",
      "source": [
        "seq1 = [1, 4, 7, None, 5+5j, 5, 12, 9]\n",
        "seq2 = []\n",
        "total = 0\n",
        "for var in seq1: # percorrendo a lista (iterar)\n",
        "  if isinstance(var, int):\n",
        "    seq2 = seq2 + [var] # o operador + concatena listas\n",
        "else:\n",
        "  total = sum(seq2)\n",
        "print(f\"seq1={seq1}\")  \n",
        "print(\"seq2={}\".format(seq2))  \n",
        "print(\"total={}\".format(total))    "
      ],
      "metadata": {
        "colab": {
          "base_uri": "https://localhost:8080/"
        },
        "id": "okw84xB3CAK-",
        "outputId": "89c9bc6b-15bb-471f-840d-7f086683b7e6"
      },
      "execution_count": 52,
      "outputs": [
        {
          "output_type": "stream",
          "name": "stdout",
          "text": [
            "seq1=[1, 4, 7, None, (5+5j), 5, 12, 9]\n",
            "seq2=[1, 4, 7, 5, 12, 9]\n",
            "total=38\n"
          ]
        }
      ]
    },
    {
      "cell_type": "code",
      "source": [
        "a = [1,2,3]\n",
        "b = [4,5,6]\n",
        "c = a + b\n",
        "print(c)"
      ],
      "metadata": {
        "colab": {
          "base_uri": "https://localhost:8080/"
        },
        "id": "g8gNrVzwCtte",
        "outputId": "5d386738-8e31-43d1-9402-3bb9a8707879"
      },
      "execution_count": 54,
      "outputs": [
        {
          "output_type": "stream",
          "name": "stdout",
          "text": [
            "[1, 2, 3, 4, 5, 6]\n"
          ]
        }
      ]
    },
    {
      "cell_type": "markdown",
      "source": [
        "# Break"
      ],
      "metadata": {
        "id": "dM93zSSrDLth"
      }
    },
    {
      "cell_type": "markdown",
      "source": [
        "Parece sem sentido ter um bloco ELSE, uma vez que tudo que há dentro desse bloco seria executado apenas uma vez, mesmo se não estivesse dentro do ELSE. No entanto, existe um comando chamado BREAK, o qual podemos usar no laço FOR e que termina a iteração antes do fim. Nesse caso específico, o que dentro do ELSE não seria executado."
      ],
      "metadata": {
        "id": "173NmvcEDhXl"
      }
    },
    {
      "cell_type": "code",
      "source": [
        "for x in range(6):\n",
        "  if x == 3: \n",
        "    break\n",
        "  print(x)\n",
        "else:\n",
        "  print(\"Finally finished!\")"
      ],
      "metadata": {
        "colab": {
          "base_uri": "https://localhost:8080/"
        },
        "id": "jva5zGuzDNbT",
        "outputId": "5206d69b-9b93-49bd-e897-0d29adeb609f"
      },
      "execution_count": 57,
      "outputs": [
        {
          "output_type": "stream",
          "name": "stdout",
          "text": [
            "0\n",
            "1\n",
            "2\n"
          ]
        }
      ]
    },
    {
      "cell_type": "markdown",
      "source": [
        "Podemos também percorrer a lista, obtendo os valores dela e seus respectivos índices.\n",
        "\n",
        "\n",
        "Todos os dados sequenciais em Python, como Strings, Listas e NDarray têm uma forma de referência a cada dado, conhecida como indexação.\n",
        "\n",
        "\n",
        "Se temos, por exemplo, uma Lista L com dados [5, 15, 8], podemos acessar cada um dos dados de L utilizando seus índices, que em Python iniciam sempre com 0.\n",
        "Assim, L[0] = 5, L[1] = 15 e L[2] = 8.\n",
        "\n",
        "\n",
        "Podemos, também, acessar faixas de dados a partir de fatiamento, de forma que o primeiro índice é incluído na fatia e o último não é incluído.\n",
        "Então, L[0:2] = [5, 15]."
      ],
      "metadata": {
        "id": "t-eVXWLjDu4F"
      }
    },
    {
      "cell_type": "code",
      "source": [
        "Seq = [1, 4, 7, 5, 12, 9]\n",
        "for indice, valor in enumerate(Seq):\n",
        "  print (\"Seq[%d] = %d\" %(indice, valor))"
      ],
      "metadata": {
        "colab": {
          "base_uri": "https://localhost:8080/"
        },
        "id": "L5nFfHraDxWX",
        "outputId": "95b49644-312d-4c1b-881d-4cae5e766c89"
      },
      "execution_count": null,
      "outputs": [
        {
          "output_type": "stream",
          "name": "stdout",
          "text": [
            "Seq[0] = 1\n",
            "Seq[1] = 4\n",
            "Seq[2] = 7\n",
            "Seq[3] = 5\n",
            "Seq[4] = 12\n",
            "Seq[5] = 9\n"
          ]
        }
      ]
    },
    {
      "cell_type": "markdown",
      "source": [
        "https://www.w3schools.com/python/ref_func_enumerate.asp"
      ],
      "metadata": {
        "id": "wpfnuQX3Eyxk"
      }
    },
    {
      "cell_type": "code",
      "source": [
        "Seq = [1, 4, 7, 5, 12, 9]\n",
        "print(enumerate(Seq))"
      ],
      "metadata": {
        "colab": {
          "base_uri": "https://localhost:8080/"
        },
        "id": "A-WxOJCmD7on",
        "outputId": "5fabfebc-ce16-4e22-d150-3d686de2e981"
      },
      "execution_count": null,
      "outputs": [
        {
          "output_type": "stream",
          "name": "stdout",
          "text": [
            "<enumerate object at 0x7fc497b2f000>\n"
          ]
        }
      ]
    },
    {
      "cell_type": "markdown",
      "source": [
        "Também é possível percorrer uma lista utilizando o comando de fatiamento (SLICE).\n",
        "\n"
      ],
      "metadata": {
        "id": "reOh4W4dE3w-"
      }
    },
    {
      "cell_type": "code",
      "source": [
        "seq = [1, 4, 7, 5, 12, 9]\n",
        "for x in seq[1:4]:\n",
        "  print(x)"
      ],
      "metadata": {
        "colab": {
          "base_uri": "https://localhost:8080/"
        },
        "id": "XS4IK_klE4Ju",
        "outputId": "af1ef707-a1f3-45a7-dadc-1ac269eaee1f"
      },
      "execution_count": 58,
      "outputs": [
        {
          "output_type": "stream",
          "name": "stdout",
          "text": [
            "4\n",
            "7\n",
            "5\n"
          ]
        }
      ]
    },
    {
      "cell_type": "markdown",
      "source": [
        "No exemplo, o FOR percorre a sequência SEQ desde o índice 1 até o índice 4, durante a iteração."
      ],
      "metadata": {
        "id": "2xdP0Ac5E80d"
      }
    },
    {
      "cell_type": "code",
      "source": [
        "seq= [1, 4, 7, 5, 12, 9]\n",
        "for x in seq[3:0:-1]:\n",
        "  print(x)"
      ],
      "metadata": {
        "colab": {
          "base_uri": "https://localhost:8080/"
        },
        "id": "4z20vQLbE9LM",
        "outputId": "b196c325-e358-430f-fe94-f77d758fc073"
      },
      "execution_count": 63,
      "outputs": [
        {
          "output_type": "stream",
          "name": "stdout",
          "text": [
            "5\n",
            "7\n",
            "4\n"
          ]
        }
      ]
    },
    {
      "cell_type": "code",
      "source": [
        "Seq= [1, 4, 7, 5, 12, 9]\n",
        "for x in Seq[3::-1]:\n",
        "  print(x)"
      ],
      "metadata": {
        "colab": {
          "base_uri": "https://localhost:8080/"
        },
        "id": "ZP5RaGTQHQJc",
        "outputId": "a6cd433d-036c-4bc8-c804-f72bbf010f63"
      },
      "execution_count": 67,
      "outputs": [
        {
          "output_type": "stream",
          "name": "stdout",
          "text": [
            "5\n",
            "7\n",
            "4\n",
            "1\n"
          ]
        }
      ]
    },
    {
      "cell_type": "code",
      "source": [
        "Seq= [1, 4, 7, 5, 12, 9]\n",
        "for x in Seq[-1:0:-1]:\n",
        "  print(x)"
      ],
      "metadata": {
        "colab": {
          "base_uri": "https://localhost:8080/"
        },
        "id": "uUkYRrZkHU-l",
        "outputId": "84c5fc41-a196-4f3e-a074-1042017f0197"
      },
      "execution_count": 69,
      "outputs": [
        {
          "output_type": "stream",
          "name": "stdout",
          "text": [
            "9\n",
            "12\n",
            "5\n",
            "7\n",
            "4\n"
          ]
        }
      ]
    },
    {
      "cell_type": "code",
      "source": [
        "Seq= [1, 4, 7, 5, 12, 9]\n",
        "for x in Seq[-1::-1]:\n",
        "  print(x)"
      ],
      "metadata": {
        "colab": {
          "base_uri": "https://localhost:8080/"
        },
        "id": "DevpitujHYhX",
        "outputId": "3047a4c2-057d-4548-b70b-304a92415a0e"
      },
      "execution_count": 70,
      "outputs": [
        {
          "output_type": "stream",
          "name": "stdout",
          "text": [
            "9\n",
            "12\n",
            "5\n",
            "7\n",
            "4\n",
            "1\n"
          ]
        }
      ]
    },
    {
      "cell_type": "markdown",
      "source": [
        "No exemplo apresentado, temos a mesma ideia do anterior, no entanto, fizemos a sequência ao inverso, já que o passo é -1. Perceba, no entanto, que o pedaço adquirido é sempre a primeira variável incluída e a segunda excluída. Assim, o item de índice 3, até o item de índice 1 (já que o 0 é excluído)."
      ],
      "metadata": {
        "id": "5rw29UFzHFEP"
      }
    },
    {
      "cell_type": "markdown",
      "source": [
        "Vamos, agora, testar um exemplo interessante:\n",
        "\n",
        "Entraremos com uma lista de frutas de uma cesta.\n",
        "Entraremos com uma lista de frutas que gostamos.\n",
        "O programa retornará quais as frutas que estão na cesta e que não gostamos."
      ],
      "metadata": {
        "id": "gut3xYC0HlUW"
      }
    },
    {
      "cell_type": "code",
      "source": [
        "cesta = [\"maçã\", \"laranja\", \"pêra\", \"maçã\", \"laranja\", \"maçã\", \"uva\", \"mamão\", \"pêra\"]\n",
        "frutas_nao_gosto = []\n",
        "frutas_gosto = [\"maçã\", \"laranja\"]\n",
        "for fruta in cesta:\n",
        "  # print(frutas_gosto)\n",
        "  # print(frutas_nao_gosto)\n",
        "  if not(fruta in frutas_gosto) and not(fruta in frutas_nao_gosto):\n",
        "    frutas_nao_gosto.append(fruta)\n",
        "print(frutas_nao_gosto)"
      ],
      "metadata": {
        "colab": {
          "base_uri": "https://localhost:8080/"
        },
        "id": "27GKosiNHn_T",
        "outputId": "da106946-0ee7-45ee-f973-09d49a22e4f7"
      },
      "execution_count": null,
      "outputs": [
        {
          "output_type": "stream",
          "name": "stdout",
          "text": [
            "['pêra', 'uva', 'mamão']\n"
          ]
        }
      ]
    },
    {
      "cell_type": "markdown",
      "source": [
        "Um outro comando serve para ajudar nas iterações FOR. Esse comando se chama CONTINUE.\n",
        "O CONTINUE tem por função passar para a próxima iteração, ou seja, volta ao começo do FOR. Geralmente, é utilizado dentro de uma condicional."
      ],
      "metadata": {
        "id": "NpqwMVyxIHSf"
      }
    },
    {
      "cell_type": "code",
      "source": [
        "lista = [0,1,2,3,4,5,6,7,8,9,10]\n",
        "for item in lista:\n",
        "  if item == 4:\n",
        "    continue\n",
        "  print(\"item:\", item)"
      ],
      "metadata": {
        "colab": {
          "base_uri": "https://localhost:8080/"
        },
        "id": "tDzNuEflIKB4",
        "outputId": "bdcd50e3-ba18-43a2-9133-44a8fb82f920"
      },
      "execution_count": 74,
      "outputs": [
        {
          "output_type": "stream",
          "name": "stdout",
          "text": [
            "item: 0\n",
            "item: 1\n",
            "item: 2\n",
            "item: 3\n",
            "item: 5\n",
            "item: 6\n",
            "item: 7\n",
            "item: 8\n",
            "item: 9\n",
            "item: 10\n"
          ]
        }
      ]
    },
    {
      "cell_type": "markdown",
      "source": [
        "# RANGE"
      ],
      "metadata": {
        "id": "WHpKmteAJSEe"
      }
    },
    {
      "cell_type": "markdown",
      "source": [
        "A função RANGE retorna uma progressão aritmética de inteiros em uma lista.\n",
        "Uma grande utilidade da função RANGE é construir a LISTA DE ITERAÇÃO da sentença FOR.\n",
        "\n",
        "Formato geral:\n",
        "\n",
        "range(início, parada, incremento)\n",
        "\n",
        "o INÍCIO (opcional) é o primeiro valor a ser gerado na lista (default: 0)\n",
        "\n",
        "o PARADA a progressão termina no último valor antes de parada\n",
        "\n",
        "o INCREMENTO (opcional) é o incremento da progressão (default: 1)"
      ],
      "metadata": {
        "id": "EZ_BOKdXJTSU"
      }
    },
    {
      "cell_type": "code",
      "source": [
        "a = [x for x in range(0, 10)] # criando uma lista com range\n",
        "print(a)"
      ],
      "metadata": {
        "colab": {
          "base_uri": "https://localhost:8080/"
        },
        "id": "bvmtfmsDJlml",
        "outputId": "488e01ab-5a5d-448e-9fcf-a7ffaa84002b"
      },
      "execution_count": null,
      "outputs": [
        {
          "output_type": "stream",
          "name": "stdout",
          "text": [
            "[0, 1, 2, 3, 4, 5, 6, 7, 8, 9]\n"
          ]
        }
      ]
    },
    {
      "cell_type": "code",
      "source": [
        "sum, inicio, fim, lista = 0, 1, 5, []\n",
        "for x in range(inicio, fim):\n",
        "  lista.append(x)\n",
        "  sum += x\n",
        "print(lista)\n",
        "print(sum)"
      ],
      "metadata": {
        "colab": {
          "base_uri": "https://localhost:8080/"
        },
        "id": "inJYj3bJJXz_",
        "outputId": "51dafb64-4f3d-4165-a617-1817e295a96d"
      },
      "execution_count": 75,
      "outputs": [
        {
          "output_type": "stream",
          "name": "stdout",
          "text": [
            "[1, 2, 3, 4]\n",
            "10\n"
          ]
        }
      ]
    },
    {
      "cell_type": "markdown",
      "source": [
        "Podemos observar, na saída do código, que a lista gerada pelo RANGE vai até um número antes do número que chamamos de FIM.\n",
        "\n",
        "Vamos mostrar, aqui, outros exemplos para que você, aluna(o), se acostume com a sintaxe de RANGE."
      ],
      "metadata": {
        "id": "Z_DmJ8ePKsxd"
      }
    },
    {
      "cell_type": "code",
      "source": [
        "for x in range(4):\n",
        "  print(x**2)"
      ],
      "metadata": {
        "colab": {
          "base_uri": "https://localhost:8080/"
        },
        "id": "ZoEfuGzgKv4X",
        "outputId": "5764438c-576b-46ab-a78a-b7bf3bcaf771"
      },
      "execution_count": null,
      "outputs": [
        {
          "output_type": "stream",
          "name": "stdout",
          "text": [
            "0\n",
            "1\n",
            "4\n",
            "9\n"
          ]
        }
      ]
    },
    {
      "cell_type": "markdown",
      "source": [
        "No exemplo, utilizamos apenas um parâmetro para o RANGE e, a partir daí, usamos o default início 0 e o default passo 1."
      ],
      "metadata": {
        "id": "5TpjmaYuK3R3"
      }
    },
    {
      "cell_type": "code",
      "source": [
        "lista = []\n",
        "for x in range(0, 11, 2):\n",
        "  lista.append(x)\n",
        "print(lista)"
      ],
      "metadata": {
        "colab": {
          "base_uri": "https://localhost:8080/"
        },
        "id": "UDha90lOK4DS",
        "outputId": "148c98b5-27fe-4907-8d51-e29bdc06e661"
      },
      "execution_count": 78,
      "outputs": [
        {
          "output_type": "stream",
          "name": "stdout",
          "text": [
            "[0, 2, 4, 6, 8, 10]\n"
          ]
        }
      ]
    },
    {
      "cell_type": "markdown",
      "source": [
        "No exemplo apresentado, utilizamos todos os três parâmetros de RANGE. Então, é gerada uma lista de 2 a 7(exclusivo, portanto é 6) com passo 2."
      ],
      "metadata": {
        "id": "qfAQdQ7HK6Bt"
      }
    },
    {
      "cell_type": "code",
      "source": [
        "sum, inicio, fim, lista = 0, 4, 0, []\n",
        "for x in range(inicio, fim, -1):\n",
        "  lista.append(x)\n",
        "  sum += x\n",
        "print(lista)\n",
        "print(sum)"
      ],
      "metadata": {
        "colab": {
          "base_uri": "https://localhost:8080/"
        },
        "id": "hf12_uVaK7ue",
        "outputId": "7a8aaeb2-63c3-4b83-998a-bfe559318d1d"
      },
      "execution_count": 79,
      "outputs": [
        {
          "output_type": "stream",
          "name": "stdout",
          "text": [
            "[4, 3, 2, 1]\n",
            "10\n"
          ]
        }
      ]
    },
    {
      "cell_type": "markdown",
      "source": [
        "No exemplo, podemos perceber que a função RANGE funciona como o SLICE. A lista criada começa em 4 (inclusive), vai até 0 (exclusive, portanto vai até 1) e tem passo -1, portanto, há decremento."
      ],
      "metadata": {
        "id": "n4RXCaphLAuK"
      }
    },
    {
      "cell_type": "markdown",
      "source": [
        "# WHILE"
      ],
      "metadata": {
        "id": "KzFTh6fGLCcV"
      }
    },
    {
      "cell_type": "markdown",
      "source": [
        "A sentença WHILE executa um conjunto de instruções várias vezes, enquanto uma condição é atendida.\n",
        "É utilizada quando precisamos fazer um teste a cada iteração do laço."
      ],
      "metadata": {
        "id": "ixh-EiEPLEkf"
      }
    },
    {
      "cell_type": "code",
      "source": [
        "contador = 0\n",
        "fim = 10\n",
        "while (contador < fim):\n",
        "  contador += 1\n",
        "  print(contador)"
      ],
      "metadata": {
        "colab": {
          "base_uri": "https://localhost:8080/"
        },
        "id": "uYYzQS8BLBCn",
        "outputId": "285958eb-8574-48a5-a7b3-bd8db4fc2403"
      },
      "execution_count": 80,
      "outputs": [
        {
          "output_type": "stream",
          "name": "stdout",
          "text": [
            "1\n",
            "2\n",
            "3\n",
            "4\n",
            "5\n",
            "6\n",
            "7\n",
            "8\n",
            "9\n",
            "10\n"
          ]
        }
      ]
    },
    {
      "cell_type": "markdown",
      "source": [
        "Vamos fazer, agora, a sequência Fibonacci:\n",
        "\n"
      ],
      "metadata": {
        "id": "w7di08esLLUG"
      }
    },
    {
      "cell_type": "code",
      "source": [
        "fim = 15\n",
        "a, b = 0, 1\n",
        "while (b <= fim):\n",
        "  print(b)\n",
        "  a, b = b, a+b"
      ],
      "metadata": {
        "colab": {
          "base_uri": "https://localhost:8080/"
        },
        "id": "DN6eHKSjLLdR",
        "outputId": "bf93bfe4-1811-41a5-b994-8760673027a1"
      },
      "execution_count": 81,
      "outputs": [
        {
          "output_type": "stream",
          "name": "stdout",
          "text": [
            "1\n",
            "1\n",
            "2\n",
            "3\n",
            "5\n",
            "8\n",
            "13\n"
          ]
        }
      ]
    },
    {
      "cell_type": "markdown",
      "source": [
        "Da mesma for que no IF e no FOR, o WHILE pode ser utilizado com a sentença ELSE."
      ],
      "metadata": {
        "id": "_eVVFwJELVKW"
      }
    },
    {
      "cell_type": "markdown",
      "source": [],
      "metadata": {
        "id": "1RtWZUiELZRv"
      }
    },
    {
      "cell_type": "markdown",
      "source": [
        "A sentença acima repete o BLOCO DE CÓDIGO1, enquanto CONDIÇÃO for verdadeira. Quando for falsa, executa BLOCO DE CÓDIGO2."
      ],
      "metadata": {
        "id": "9wOs-9cNLZXr"
      }
    },
    {
      "cell_type": "code",
      "source": [
        "valor = 0\n",
        "while (valor < 10):\n",
        "  valor += 1\n",
        "else:\n",
        "    print(\"Valor: \", valor)"
      ],
      "metadata": {
        "colab": {
          "base_uri": "https://localhost:8080/"
        },
        "id": "-LuomLqCLVkQ",
        "outputId": "a7c43b99-c29d-491a-bc8d-0a83b5981a08"
      },
      "execution_count": 82,
      "outputs": [
        {
          "output_type": "stream",
          "name": "stdout",
          "text": [
            "Valor:  10\n"
          ]
        }
      ]
    },
    {
      "cell_type": "markdown",
      "source": [
        "Assim como no FOR, o WHILE pode ser usado com a função BREAK. Podemos perceber que o WHILE faz apenas uma verificação no começo de cada repetição. No entanto, às vezes, precisamos fazer alguma validação no decorrer do laço WHILE, podendo precisar parar a repetição. Para isso, usamos a instrução BREAK, que interrompe a execução do WHILE."
      ],
      "metadata": {
        "id": "glhVd-T6LhI_"
      }
    },
    {
      "cell_type": "code",
      "source": [
        "from random import randint\n",
        "\n",
        "print(randint(0,10))"
      ],
      "metadata": {
        "colab": {
          "base_uri": "https://localhost:8080/"
        },
        "id": "dRt_TgllLm0e",
        "outputId": "2e12bf1d-3d94-43a2-c7c2-10299e3259e5"
      },
      "execution_count": 89,
      "outputs": [
        {
          "output_type": "stream",
          "name": "stdout",
          "text": [
            "10\n"
          ]
        }
      ]
    },
    {
      "cell_type": "code",
      "source": [
        "from random import randint\n",
        "while True:\n",
        "  valor = randint(-10,10)\n",
        "  print(valor)\n",
        "  if valor < 0:\n",
        "    break"
      ],
      "metadata": {
        "colab": {
          "base_uri": "https://localhost:8080/"
        },
        "id": "i_0d4gUDLhrd",
        "outputId": "f042f8f8-4fc1-42da-b795-215935a11165"
      },
      "execution_count": 94,
      "outputs": [
        {
          "output_type": "stream",
          "name": "stdout",
          "text": [
            "5\n",
            "-4\n"
          ]
        }
      ]
    },
    {
      "cell_type": "markdown",
      "source": [
        "• WHILE TRUE funciona como uma tautologia, na qual a condicional é sempre verdadeira e, para tal, é necessário um break, ou o interpretador nunca sairá do loop."
      ],
      "metadata": {
        "id": "LNpPeDWPMQRL"
      }
    },
    {
      "cell_type": "markdown",
      "source": [
        "Devolva um número entre 3 e 9 (ambos incluídos):"
      ],
      "metadata": {
        "id": "vnyoZpYHL-hu"
      }
    },
    {
      "cell_type": "code",
      "source": [
        "import random\n",
        "\n",
        "for i in range(10):\n",
        "  print(random.randint(8, 9))"
      ],
      "metadata": {
        "colab": {
          "base_uri": "https://localhost:8080/"
        },
        "id": "OTfuGkaJMAFm",
        "outputId": "9210dc23-d302-47cd-a821-5b0d61e4560d"
      },
      "execution_count": 96,
      "outputs": [
        {
          "output_type": "stream",
          "name": "stdout",
          "text": [
            "9\n",
            "8\n",
            "9\n",
            "9\n",
            "9\n",
            "8\n",
            "9\n",
            "9\n",
            "8\n",
            "8\n"
          ]
        }
      ]
    },
    {
      "cell_type": "markdown",
      "source": [
        "Perceba, na saída do código apresentado, que, assim que o código gera um inteiro negativo, o BREAK é ativado. É possível utilizar também a função CONTINUE, que permite avançar para a próxima iteração do laço mais interno."
      ],
      "metadata": {
        "id": "5NQ2zBanMWdB"
      }
    },
    {
      "cell_type": "code",
      "source": [
        "i = 0\n",
        "while i < 10:\n",
        "  i += 1\n",
        "  if i % 2 == 0:\n",
        "    continue\n",
        "  print(i)"
      ],
      "metadata": {
        "colab": {
          "base_uri": "https://localhost:8080/"
        },
        "id": "Wd5XU7BKMXVF",
        "outputId": "33d4c65f-9ed1-4f88-b192-d2a22db7f1ec"
      },
      "execution_count": 97,
      "outputs": [
        {
          "output_type": "stream",
          "name": "stdout",
          "text": [
            "1\n",
            "3\n",
            "5\n",
            "7\n",
            "9\n"
          ]
        }
      ]
    },
    {
      "cell_type": "markdown",
      "source": [
        "O código imprime apenas os valores ímpares, pois sempre que a divisão por 2 tiver resto 0 (ou seja, quando for par), a instrução CONTINUE é ativada e o código, então, volta ao início da repetição sem passar pelo PRINT.\n",
        "\n",
        "Em alguns casos, por uma utilização incorreta do WHILE, acabamos criando códigos que entram no Loop e nunca saem:"
      ],
      "metadata": {
        "id": "_a0M2e90MZO8"
      }
    },
    {
      "cell_type": "code",
      "source": [
        "import random\n",
        "i = random.randint(0,100)\n",
        "while i < 100:\n",
        "  print(i)\n",
        "  i += i\n",
        "print(\"fim\")"
      ],
      "metadata": {
        "colab": {
          "base_uri": "https://localhost:8080/"
        },
        "id": "Ev6rYF7yMboR",
        "outputId": "2d6394d8-c479-4c5f-9900-004bb967ee99"
      },
      "execution_count": null,
      "outputs": [
        {
          "output_type": "stream",
          "name": "stdout",
          "text": [
            "45\n",
            "90\n",
            "fim\n"
          ]
        }
      ]
    },
    {
      "cell_type": "markdown",
      "source": [
        "No caso ilustrado, a função randint(início, fim)gera um número inteiro aleatório entre início e fim. No entanto, se o número gerado for 0, o código ficará preso no loop, pois 0+0 = 0, portanto nunca sairemos no loop WHILE."
      ],
      "metadata": {
        "id": "ZMo1k2YyMgw2"
      }
    },
    {
      "cell_type": "markdown",
      "source": [
        "# Questões de Estruturas de Repetição em Python"
      ],
      "metadata": {
        "id": "ONaDkmUFM3lv"
      }
    },
    {
      "cell_type": "markdown",
      "source": [
        "https://www.pythonprogressivo.net/2018/06/Lista-Exercicios-Lacos-Looping-Python.html"
      ],
      "metadata": {
        "id": "Rsd_RzlFNAtz"
      }
    }
  ]
}